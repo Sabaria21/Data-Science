{
 "cells": [
  {
   "cell_type": "markdown",
   "id": "3f4b663c",
   "metadata": {},
   "source": [
    "# Week 1 Review Exercises\n"
   ]
  },
  {
   "cell_type": "code",
   "execution_count": null,
   "id": "9670672c",
   "metadata": {},
   "outputs": [],
   "source": [
    "Nama : Hashimatul Zaria\n",
    "NIM  : E1E121059"
   ]
  },
  {
   "cell_type": "markdown",
   "id": "ada58c46",
   "metadata": {},
   "source": [
    "Q1. Data Types\n",
    "\n",
    "What is the data type of the variable `pop`?\n",
    "-> Apa tipe data pada variabel 'pop'?\n",
    "\n",
    "Jawab : Tipe data pada variabel 'pop' adalah float. Tipe data float adalah tipe data yang berbentuk pecahan atau desimal."
   ]
  },
  {
   "cell_type": "code",
   "execution_count": 18,
   "id": "563c66fd",
   "metadata": {},
   "outputs": [
    {
     "name": "stdout",
     "output_type": "stream",
     "text": [
      "<class 'float'>\n"
     ]
    }
   ],
   "source": [
    "pop = 5.8\n",
    "print(type(pop))"
   ]
  },
  {
   "cell_type": "code",
   "execution_count": null,
   "id": "caf77385",
   "metadata": {},
   "outputs": [],
   "source": [
    "# use a suitable function to check your answer\n",
    "# gunakan fungsi yang sesuai untuk memeriksa jawabanmu"
   ]
  },
  {
   "cell_type": "markdown",
   "id": "b19b8600",
   "metadata": {},
   "source": [
    "Q2. Which of the following is a valid variable name of of population below 15 years old?\n",
    "-> Mana dari berikut ini adalah nama variabel valid untuk populasi di bawah 15 tahun?\n",
    "\n",
    "Jawab : variabel yang valid adalah \"_15_below_pop = 12.33\""
   ]
  },
  {
   "cell_type": "code",
   "execution_count": null,
   "id": "fa3e5e24",
   "metadata": {},
   "outputs": [],
   "source": [
    "# which line won't give an error? Comment out the ones that do!\n",
    "15_years_and_below = 12.33 #SyntaxError pada variabel ini\n",
    "%_pop_15_below = 12.33 #SyntaxError pada variabel ini\n",
    "_15&below_pop = 12.33 #SyntaxError pada variabel ini\n",
    "_15_below_pop = 12.33 #Ini adalah penulisan variabel yang benar"
   ]
  },
  {
   "cell_type": "code",
   "execution_count": 2,
   "id": "c6132b90",
   "metadata": {},
   "outputs": [
    {
     "ename": "SyntaxError",
     "evalue": "invalid decimal literal (1209909894.py, line 1)",
     "output_type": "error",
     "traceback": [
      "\u001b[1;36m  Cell \u001b[1;32mIn[2], line 1\u001b[1;36m\u001b[0m\n\u001b[1;33m    15_years_and_below = 12.33\u001b[0m\n\u001b[1;37m      ^\u001b[0m\n\u001b[1;31mSyntaxError\u001b[0m\u001b[1;31m:\u001b[0m invalid decimal literal\n"
     ]
    }
   ],
   "source": [
    "15_years_and_below = 12.33\n",
    "print(15_years_and_below)"
   ]
  },
  {
   "cell_type": "code",
   "execution_count": 3,
   "id": "a8fde8f3",
   "metadata": {},
   "outputs": [
    {
     "ename": "SyntaxError",
     "evalue": "invalid syntax (4062839522.py, line 2)",
     "output_type": "error",
     "traceback": [
      "\u001b[1;36m  Cell \u001b[1;32mIn[3], line 2\u001b[1;36m\u001b[0m\n\u001b[1;33m    print(%_pop_15_below)\u001b[0m\n\u001b[1;37m          ^\u001b[0m\n\u001b[1;31mSyntaxError\u001b[0m\u001b[1;31m:\u001b[0m invalid syntax\n"
     ]
    }
   ],
   "source": [
    "%_pop_15_below = 12.33\n",
    "print(%_pop_15_below)"
   ]
  },
  {
   "cell_type": "code",
   "execution_count": 4,
   "id": "c1c671d1",
   "metadata": {},
   "outputs": [
    {
     "ename": "SyntaxError",
     "evalue": "cannot assign to expression here. Maybe you meant '==' instead of '='? (2380817573.py, line 1)",
     "output_type": "error",
     "traceback": [
      "\u001b[1;36m  Cell \u001b[1;32mIn[4], line 1\u001b[1;36m\u001b[0m\n\u001b[1;33m    _15&below_pop = 12.33\u001b[0m\n\u001b[1;37m    ^\u001b[0m\n\u001b[1;31mSyntaxError\u001b[0m\u001b[1;31m:\u001b[0m cannot assign to expression here. Maybe you meant '==' instead of '='?\n"
     ]
    }
   ],
   "source": [
    "_15&below_pop = 12.33\n",
    "print(_15&below_pop)"
   ]
  },
  {
   "cell_type": "code",
   "execution_count": 5,
   "id": "b6471566",
   "metadata": {},
   "outputs": [
    {
     "name": "stdout",
     "output_type": "stream",
     "text": [
      "12.33\n"
     ]
    }
   ],
   "source": [
    "_15_below_pop = 12.33 \n",
    "print(_15_below_pop)"
   ]
  },
  {
   "cell_type": "markdown",
   "id": "6227288b",
   "metadata": {},
   "source": [
    "Q3. What will be stored in `result`?\n",
    "-> Apa yang akan disimpan di dalam variabel result?\n",
    "\n",
    "Jawab :Hasil dari variabel result = 17\n",
    "Operasi aritmatika yang digunakan:\n",
    "- + = penjumlahan\n",
    "- ** = pangkat\n",
    "- // = pembagian bulat"
   ]
  },
  {
   "cell_type": "code",
   "execution_count": 6,
   "id": "5e4cfdfd",
   "metadata": {},
   "outputs": [
    {
     "name": "stdout",
     "output_type": "stream",
     "text": [
      "17\n"
     ]
    }
   ],
   "source": [
    "result = 3 + 4 ** 2 - (5 // 2)\n",
    "print(result)"
   ]
  },
  {
   "cell_type": "markdown",
   "id": "4b2b1ba6",
   "metadata": {},
   "source": [
    "Q4. If Singapore has an estimated population of 5.85 million and the land area is 700 square kilometers, what is the population density (number of people per KM)? \n",
    "\n",
    "Jika Singapura memiliki populasi yang diperkirakan sebanyak 5.85 juta dan luas daratan adalah 700 kilometer persegi, berapa kepadatan penduduknya (jumlah orang per KM)?\n",
    "\n",
    "Jawab : Jadi, kepadatan penduduk Singapore (jumlah orang per KM) adalah = 8357.142857142857 jiwa"
   ]
  },
  {
   "cell_type": "code",
   "execution_count": 41,
   "id": "3b3dd8d9",
   "metadata": {},
   "outputs": [
    {
     "name": "stdout",
     "output_type": "stream",
     "text": [
      "Population density per square kilometer =  8357.142857142857\n"
     ]
    }
   ],
   "source": [
    "# Estimated total Population of Singapore, in millions 5.85\n",
    "total_pop_millions = 5.85*10**6\n",
    "\n",
    "# Total land area, in KM\n",
    "land_area = 700\n",
    "\n",
    "# How many people are there per KM?\n",
    "population_density  = total_pop_millions / land_area\n",
    "print(\"Population density per square kilometer = \",population_density)\n"
   ]
  },
  {
   "cell_type": "markdown",
   "id": "8a8b4f48",
   "metadata": {},
   "source": [
    "Q5. Write a function called `pop_density()` that receives two arguments:\n",
    "Tulis sebuah fungsi bernama pop_density() yang menerima dua argumen:\n",
    "\n",
    "1. the population, recorded in millions, `population_mil`\n",
    "2. the land area, in square kilometres, `land_area_sqkm`\n",
    "- 1. populasi, dicatat dalam jutaan, population_mil\n",
    "- 2. luas wilayah, dalam kilometer persegi, land_area_sqkm\n",
    "\n",
    "The function should calculate and return the population density. \n",
    "Fungsi tersebut harus menghitung dan mengembalikan kepadatan penduduk."
   ]
  },
  {
   "cell_type": "code",
   "execution_count": 42,
   "id": "cec3ad43",
   "metadata": {},
   "outputs": [],
   "source": [
    "# Write the function here\n",
    "# Tulis fungsi di sini\n",
    "\n",
    "def pop_density(population_mil, land_area_sqkm):\n",
    "    density = population_mil / land_area_sqkm\n",
    "    print(\"Population density = \",density)"
   ]
  },
  {
   "cell_type": "code",
   "execution_count": 43,
   "id": "1585a550",
   "metadata": {},
   "outputs": [
    {
     "name": "stdout",
     "output_type": "stream",
     "text": [
      "Population density =  8357.142857142857\n"
     ]
    }
   ],
   "source": [
    "pop_density(5.85*10**6, 700)"
   ]
  },
  {
   "cell_type": "markdown",
   "id": "9c7711c8",
   "metadata": {},
   "source": [
    "Q6. Call the function you have written to calculate and display the population density of Hong Kong: 7.50 million people in a land area of 1050 km squared \n",
    "\n",
    "Panggil fungsi yang telah Anda tulis untuk menghitung dan menampilkan kepadatan penduduk Hong Kong: 7,50 juta orang di wilayah daratan seluas 1050 km persegi."
   ]
  },
  {
   "cell_type": "code",
   "execution_count": 60,
   "id": "a2b27625",
   "metadata": {},
   "outputs": [
    {
     "name": "stdout",
     "output_type": "stream",
     "text": [
      "The population density of Hong Kong is approximately 7142.86 people per square kilometer.\n"
     ]
    }
   ],
   "source": [
    "# Call the function \n",
    "# Panggil fungsi\n",
    "\n",
    "def calculate_population_density(population, area):\n",
    "    density = population / area\n",
    "    return density\n",
    "\n",
    "# Calculating the population density of Hong Kong\n",
    "hk_population = 7.50*10**6  \n",
    "hk_area = 1050\n",
    "\n",
    "hk_density = calculate_population_density(hk_population, hk_area)\n",
    "print(f\"The population density of Hong Kong is approximately {hk_density:.2f} people per square kilometer.\")"
   ]
  },
  {
   "cell_type": "markdown",
   "id": "43cbdd91",
   "metadata": {},
   "source": [
    "Q7. Using the `pop_density()` function, calculate the population density of Singapore and then use comparison operators to compare the population densities of Singapore and Hong Kong.\n",
    "-> Menggunakan fungsi pop_density(), hitung kepadatan penduduk Singapura dan kemudian gunakan operator perbandingan untuk membandingkan kepadatan penduduk Singapura dan Hong Kong.\n",
    "\n",
    "Singapore's population: 5.85 million\n",
    "Singapore's land area: 700 sq km\n",
    "-> Populasi Singapura: 5,85 juta Orang\n",
    "Luas wilayah Singapura: 700 km persegi\n",
    "\n",
    "(Data From [Worldometers](http://worldometers.info))\n"
   ]
  },
  {
   "cell_type": "code",
   "execution_count": 67,
   "id": "626d47c8",
   "metadata": {},
   "outputs": [
    {
     "name": "stdout",
     "output_type": "stream",
     "text": [
      "The population density of Singapore is approximately 8357.14 people per square kilometer.\n"
     ]
    }
   ],
   "source": [
    "# Function to calculate population density\n",
    "# Fungsi untuk menghitung kepadatan penduduk\n",
    "\n",
    "def calculate_population_density(population, area):\n",
    "    density = population / area\n",
    "    return density\n",
    "\n",
    "\n",
    "# Calculating the population density of Singapore\n",
    "sg_population = 5.85*10**6 \n",
    "sg_area = 700 \n",
    "\n",
    "sg_density = calculate_population_density(sg_population, sg_area)\n",
    "print(f\"The population density of Singapore is approximately {sg_density:.2f} people per square kilometer.\")"
   ]
  },
  {
   "cell_type": "code",
   "execution_count": 68,
   "id": "c6feecb4",
   "metadata": {},
   "outputs": [
    {
     "name": "stdout",
     "output_type": "stream",
     "text": [
      "In terms of population density, Singapore has a higher figure compared to Hong Kong\n"
     ]
    }
   ],
   "source": [
    "# Comparing the population density of Singapore and Hong Kong.\n",
    "# Membandingkan kepadatan penduduk Singapura dan Hong Kong\n",
    "\n",
    "if sg_density > hk_density:\n",
    "    print(\"In terms of population density, Singapore has a higher figure compared to Hong Kong\")\n",
    "elif sg_density < hk_density:\n",
    "    print(\"In terms of population density, Hong Kong has a higher figure compared to Singapore\")\n",
    "else:\n",
    "    print(\"Singapore and Hong Kong have the same population density\")"
   ]
  },
  {
   "cell_type": "markdown",
   "id": "cc1768c5",
   "metadata": {},
   "source": [
    "Q8. Let's add another area to compare: Macao's population is 0.65 million in a land area of 30 sq km. Find out whether Singapore's population density is higher than BOTH Hong Kong and Macao."
   ]
  },
  {
   "cell_type": "code",
   "execution_count": 66,
   "id": "55aeec5c",
   "metadata": {},
   "outputs": [
    {
     "name": "stdout",
     "output_type": "stream",
     "text": [
      "The population density of Macao is approximately 928.57 people per square kilometer\n"
     ]
    }
   ],
   "source": [
    "# Calculate Macao's density (use the function!)\n",
    "def calculate_population_density(population, area):\n",
    "    density = population / area\n",
    "    return density\n",
    "\n",
    "# Calculating the population density of Macao\n",
    "mc_population = 0.65 * 10**6  \n",
    "mc_area = 700 \n",
    "\n",
    "mc_density = calculate_population_density(mc_population, mc_area)\n",
    "print(f\"The population density of Macao is approximately {mc_density:.2f} people per square kilometer\")"
   ]
  },
  {
   "cell_type": "code",
   "execution_count": 65,
   "id": "262f76f5",
   "metadata": {},
   "outputs": [
    {
     "name": "stdout",
     "output_type": "stream",
     "text": [
      "Singapore has a higher population density than both Hong Kong and Macao.\n"
     ]
    }
   ],
   "source": [
    "# Comparing the population density of Singapore, Hong Kong, and Macao.\n",
    "# Membandingkan kepadatan penduduk Singapura, Hong Kong, dan Macao\n",
    "\n",
    "if sg_density > hk_density and sg_density > mc_density:\n",
    "    print(\"Singapore has a higher population density than both Hong Kong and Macao.\")\n",
    "else:\n",
    "    print(\"Singapore does not have a higher population density than both Hong Kong and Macao.\")"
   ]
  },
  {
   "cell_type": "markdown",
   "id": "66b284ff",
   "metadata": {},
   "source": [
    "Q9. Write a function called compare_density() that receives two arguments representing the population densities of two areas. The function will compare the two values and print one of the following strings:\n",
    "-> Tulis sebuah fungsi bernama compare_density() yang menerima dua argumen yang mewakili kepadatan penduduk dari dua wilayah. Fungsi ini akan membandingkan dua nilai tersebut dan mencetak salah satu dari string berikut:\n",
    "\n",
    "- “Area 1 has higher density”\n",
    "- “Area 2 has higher density”\n",
    "- “Both areas have the same density”\n",
    "    \"Area 1 memiliki kepadatan yang lebih tinggi\"\n",
    "    \"Area 2 memiliki kepadatan yang lebih tinggi\"\n",
    "    \"Kedua wilayah memiliki kepadatan yang sama\""
   ]
  },
  {
   "cell_type": "code",
   "execution_count": 69,
   "id": "63351d63",
   "metadata": {},
   "outputs": [],
   "source": [
    "# Write the function\n",
    "# Tulis fungsi\n",
    "\n",
    "def compare_density(density1, density2):\n",
    "    if density1 > density2:\n",
    "        print(\"Area 1 has higher density\")\n",
    "    elif density1 < density2:\n",
    "        print(\"Area 2 has higher density\")\n",
    "    else:\n",
    "        print(\"Both areas have the same density\")"
   ]
  },
  {
   "cell_type": "markdown",
   "id": "0e7c4ab1",
   "metadata": {},
   "source": [
    "Then we can test the function by passing the values of `sg_density` and `hk_density` as arguments."
   ]
  },
  {
   "cell_type": "code",
   "execution_count": 70,
   "id": "6f1a4362",
   "metadata": {},
   "outputs": [
    {
     "name": "stdout",
     "output_type": "stream",
     "text": [
      "Area 1 has higher density\n"
     ]
    }
   ],
   "source": [
    "compare_density(sg_density, hk_density)"
   ]
  },
  {
   "cell_type": "markdown",
   "id": "49fae04b",
   "metadata": {},
   "source": [
    "Q10. What will be the result of the following loop?\n",
    "Apa hasil dari perulangan berikut?\n",
    "\n",
    "```\n",
    "for year in range(2022, 2031, 2):\n",
    "    print(year)\n",
    "```"
   ]
  },
  {
   "cell_type": "code",
   "execution_count": 9,
   "id": "48ab8047",
   "metadata": {},
   "outputs": [
    {
     "name": "stdout",
     "output_type": "stream",
     "text": [
      "2022\n",
      "2024\n",
      "2026\n",
      "2028\n",
      "2030\n"
     ]
    }
   ],
   "source": [
    "# Type in the code for the loop given above and execute to check your answer\n",
    "# Ketikkan kode untuk perulangan di atas dan jalankan untuk memeriksa jawaban Anda.\n",
    "\n",
    "for year in range(2022, 2031, 2):\n",
    "    print(year)"
   ]
  },
  {
   "cell_type": "markdown",
   "id": "359280f1",
   "metadata": {},
   "source": [
    "Q.11 Write a function projected_population() that receives three arguments:\n",
    "-> uatlah sebuah fungsi projected_population() yang menerima tiga argumen:\n",
    "\n",
    "- Current population, in millions\n",
    "- Growth rate\n",
    "- Current year\n",
    "- Populasi saat ini, dalam jutaan\n",
    "- Tingkat pertumbuhan\n",
    "- Tahun saat ini\n"
   ]
  },
  {
   "cell_type": "markdown",
   "id": "43b00110",
   "metadata": {},
   "source": [
    "The function should:\n",
    "- set the projected population to the current population\n",
    "- set the projected year to the current year\n",
    "- calculate the difference between the projected population and current population\n",
    "Fungsi ini harus:\n",
    "- atur populasi proyeksi menjadi populasi saat ini\n",
    "- atur tahun proyeksi menjadi tahun saat ini\n",
    "- menghitung selisih antara populasi proyeksi dan populasi saat ini\n",
    "\n",
    "while the difference is between -1 and 1:\n",
    "1. print the projected year and the projected population\n",
    "2. calculate the projected population = projected population + projected population * growth rate / 100\n",
    "3. update the projected year \n",
    "4. recalculate the difference between the projected propulation and current population\n",
    "\n",
    "-> selama selisih berada di antara -1 dan 1:\n",
    "1. cetak tahun proyeksi dan populasi proyeksi\n",
    "2. hitung populasi proyeksi = populasi proyeksi + populasi proyeksi * tingkat pertumbuhan / 100\n",
    "3. perbarui tahun proyeksi\n",
    "4. hitung ulang selisih antara populasi proyeksi dan populasi saat ini"
   ]
  },
  {
   "cell_type": "code",
   "execution_count": 72,
   "id": "8e62f54e",
   "metadata": {},
   "outputs": [],
   "source": [
    "def projected_population(current_pop, growth_rate, current_year):\n",
    "    # complete the function according to the guide\n",
    "    projected_population = current_pop\n",
    "    projected_year = current_year\n",
    "\n",
    "    difference = projected_population - current_pop\n",
    "\n",
    "    while -1 <= difference <= 1:\n",
    "        print(f\"Projected Year: {projected_year}, Projected Population: {projected_population} million\")\n",
    "\n",
    "        projected_population += projected_population * growth_rate / 100\n",
    "        projected_year += 1\n",
    "\n",
    "        difference = projected_population - current_pop"
   ]
  },
  {
   "cell_type": "code",
   "execution_count": 73,
   "id": "35c3f670",
   "metadata": {},
   "outputs": [
    {
     "name": "stdout",
     "output_type": "stream",
     "text": [
      "Thailand's population growth\n",
      "Projected Year: 2020, Projected Population: 69.8 million\n",
      "Projected Year: 2021, Projected Population: 70.0094 million\n",
      "Projected Year: 2022, Projected Population: 70.2194282 million\n",
      "Projected Year: 2023, Projected Population: 70.4300864846 million\n",
      "Projected Year: 2024, Projected Population: 70.6413767440538 million\n"
     ]
    }
   ],
   "source": [
    "# testing with Thailand\n",
    "# Percobaan dengan Thailand\n",
    "\n",
    "print(\"Thailand's population growth\")\n",
    "projected_population(current_pop = 69.8, growth_rate = 0.3, current_year = 2020)"
   ]
  },
  {
   "cell_type": "markdown",
   "id": "09df059d",
   "metadata": {},
   "source": [
    "Q.12 Write a function called `string_info()` which takes in a string argument and returns four values:\n",
    "- the first 3 characters\n",
    "- last 3 characters\n",
    "- the number of characters in the string\n",
    "- the string with each word capitalized\n",
    "\n",
    "Tulis sebuah fungsi bernama string_info() yang mengambil argumen berupa string dan mengembalikan empat nilai:\n",
    "- tiga karakter pertama\n",
    "- tiga karakter terakhir\n",
    "- jumlah karakter dalam string\n",
    "- string dengan setiap kata diawali huruf besar"
   ]
  },
  {
   "cell_type": "code",
   "execution_count": 10,
   "id": "254d3e0c",
   "metadata": {},
   "outputs": [],
   "source": [
    "def string_info(word): \n",
    "    # complete the function\n",
    "    first_three = word[:3]\n",
    "    last_three = word[-3:]\n",
    "    num_haracters = len(word)\n",
    "    capitaliz = word.title()\n",
    "    return first_three, last_three, num_haracters, capitaliz"
   ]
  },
  {
   "cell_type": "code",
   "execution_count": 11,
   "id": "5858639b",
   "metadata": {},
   "outputs": [],
   "source": [
    "# calling the function\n",
    "# Memanggil fungsi\n",
    "\n",
    "start, end, num, title = string_info(\"data science\")"
   ]
  },
  {
   "cell_type": "code",
   "execution_count": 12,
   "id": "f286a42c",
   "metadata": {},
   "outputs": [
    {
     "name": "stdout",
     "output_type": "stream",
     "text": [
      "('dat', 'nce', 12, 'Data Science')\n"
     ]
    }
   ],
   "source": [
    "# print what's returned\n",
    "# Mencetak hasil yang dikembalikan\n",
    "\n",
    "print(string_info(\"data science\"))"
   ]
  },
  {
   "cell_type": "markdown",
   "id": "f33e1677",
   "metadata": {},
   "source": [
    "# Congratulations! \n",
    "\n",
    "You have reached the end of this notebook! Hope you have been able to practice and review the fundamental concepts in Python coding and we will do more next week!"
   ]
  }
 ],
 "metadata": {
  "kernelspec": {
   "display_name": "Python 3 (ipykernel)",
   "language": "python",
   "name": "python3"
  },
  "language_info": {
   "codemirror_mode": {
    "name": "ipython",
    "version": 3
   },
   "file_extension": ".py",
   "mimetype": "text/x-python",
   "name": "python",
   "nbconvert_exporter": "python",
   "pygments_lexer": "ipython3",
   "version": "3.11.4"
  }
 },
 "nbformat": 4,
 "nbformat_minor": 5
}
